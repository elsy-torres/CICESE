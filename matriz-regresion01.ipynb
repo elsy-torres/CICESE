{
  "nbformat": 4,
  "nbformat_minor": 0,
  "metadata": {
    "colab": {
      "name": "Untitled14.ipynb",
      "provenance": [],
      "authorship_tag": "ABX9TyPlgQv+Q6tg3SCRkmCCWzK3",
      "include_colab_link": true
    },
    "kernelspec": {
      "name": "python3",
      "display_name": "Python 3"
    }
  },
  "cells": [
    {
      "cell_type": "markdown",
      "metadata": {
        "id": "view-in-github",
        "colab_type": "text"
      },
      "source": [
        "<a href=\"https://colab.research.google.com/github/elsy-torres/CICESE/blob/main/matriz-regresion01.ipynb\" target=\"_parent\"><img src=\"https://colab.research.google.com/assets/colab-badge.svg\" alt=\"Open In Colab\"/></a>"
      ]
    },
    {
      "cell_type": "code",
      "metadata": {
        "id": "ji80ZrNhTebO"
      },
      "source": [
        "import numpy as np\r\n",
        "import matplotlib.pyplot as plt\r\n",
        "from scipy.stats import linregress"
      ],
      "execution_count": 43,
      "outputs": []
    },
    {
      "cell_type": "code",
      "metadata": {
        "id": "f35kPkghBuF_"
      },
      "source": [
        "N = 3 #grado del polinomio\r\n",
        "M = N + 2"
      ],
      "execution_count": 44,
      "outputs": []
    },
    {
      "cell_type": "code",
      "metadata": {
        "id": "MiCakKHhLCHd"
      },
      "source": [
        "#Usuario debe ingresar los coeficientes separados por en coma en un vector.\r\n",
        "coef = [5, 4, 1, 2] # Coeficientes"
      ],
      "execution_count": 45,
      "outputs": []
    },
    {
      "cell_type": "code",
      "metadata": {
        "colab": {
          "base_uri": "https://localhost:8080/"
        },
        "id": "s1igpbQ8AXRM",
        "outputId": "68b21013-d243-4919-bd6e-47c36b44f735"
      },
      "source": [
        "x = np.arange(0,N)\r\n",
        "#x = [0,1,2]\r\n",
        "print(x)"
      ],
      "execution_count": 46,
      "outputs": [
        {
          "output_type": "stream",
          "text": [
            "[0 1 2]\n"
          ],
          "name": "stdout"
        }
      ]
    },
    {
      "cell_type": "code",
      "metadata": {
        "colab": {
          "base_uri": "https://localhost:8080/"
        },
        "id": "i-f5hBgcGGxg",
        "outputId": "639a2c86-64cb-4103-b84c-497084ea62a9"
      },
      "source": [
        "c = np.arange(1,M)\r\n",
        "m= sorted(c, reverse=True)\r\n",
        "print(m)"
      ],
      "execution_count": 47,
      "outputs": [
        {
          "output_type": "stream",
          "text": [
            "[4, 3, 2, 1]\n"
          ],
          "name": "stdout"
        }
      ]
    },
    {
      "cell_type": "code",
      "metadata": {
        "colab": {
          "base_uri": "https://localhost:8080/"
        },
        "id": "VmKo35wGeNJr",
        "outputId": "f48ceabd-da1f-4ea8-d479-a82eecb71483"
      },
      "source": [
        "a = np.zeros((np.size(x),np.size(m)))\r\n",
        "print(a)"
      ],
      "execution_count": 48,
      "outputs": [
        {
          "output_type": "stream",
          "text": [
            "[[0. 0. 0. 0.]\n",
            " [0. 0. 0. 0.]\n",
            " [0. 0. 0. 0.]]\n"
          ],
          "name": "stdout"
        }
      ]
    },
    {
      "cell_type": "code",
      "metadata": {
        "colab": {
          "base_uri": "https://localhost:8080/"
        },
        "id": "85V_SxsnDfEX",
        "outputId": "f6c4bceb-971f-4682-e29e-1a79cd402b00"
      },
      "source": [
        " for i in np.arange(0,np.size(m)):\r\n",
        "  for j in np.arange(0,np.size(x)):\r\n",
        "    a[j,i] = x[j]**(m[i]-1)\r\n",
        "  \r\n",
        "print(a)"
      ],
      "execution_count": 49,
      "outputs": [
        {
          "output_type": "stream",
          "text": [
            "[[0. 0. 0. 1.]\n",
            " [1. 1. 1. 1.]\n",
            " [8. 4. 2. 1.]]\n"
          ],
          "name": "stdout"
        }
      ]
    },
    {
      "cell_type": "code",
      "metadata": {
        "colab": {
          "base_uri": "https://localhost:8080/"
        },
        "id": "42LxbIKQEXk1",
        "outputId": "e25408b6-696e-483b-cd77-fc286a0264c8"
      },
      "source": [
        "y = np.matmul(a,coef)\r\n",
        "print(y)"
      ],
      "execution_count": 50,
      "outputs": [
        {
          "output_type": "stream",
          "text": [
            "[ 2. 12. 60.]\n"
          ],
          "name": "stdout"
        }
      ]
    },
    {
      "cell_type": "code",
      "metadata": {
        "colab": {
          "base_uri": "https://localhost:8080/",
          "height": 265
        },
        "id": "0VgyKnMAUqVB",
        "outputId": "89d1c919-7ede-446d-fc9d-d5810ec99088"
      },
      "source": [
        "plt.plot(x,y)\r\n",
        "plt.show()"
      ],
      "execution_count": 51,
      "outputs": [
        {
          "output_type": "display_data",
          "data": {
            "image/png": "[encoded data removed]",
            "text/plain": [
              "<Figure size 432x288 with 1 Axes>"
            ]
          },
          "metadata": {
            "tags": [],
            "needs_background": "light"
          }
        }
      ]
    },
    {
      "cell_type": "code",
      "metadata": {
        "id": "Fpn4pUCMsG9O"
      },
      "source": [
        "linregress?"
      ],
      "execution_count": 52,
      "outputs": []
    },
    {
      "cell_type": "code",
      "metadata": {
        "id": "wMHuUcP4sRAR"
      },
      "source": [
        "regresion = linregress(x, y)"
      ],
      "execution_count": 53,
      "outputs": []
    },
    {
      "cell_type": "code",
      "metadata": {
        "colab": {
          "base_uri": "https://localhost:8080/",
          "height": 265
        },
        "id": "P5LOTd-vQUqh",
        "outputId": "ced0c794-7dec-4b32-e99e-5da2a4cb7de6"
      },
      "source": [
        "x_reg = np.array([x.min(), x.max()])\r\n",
        "y_reg = regresion.slope * x_reg + regresion.intercept\r\n",
        "plt.scatter(x, y, label=\"Datos\")\r\n",
        "plt.plot(x_reg, y_reg, color=\"C1\", label=\"Regresión Lineal\")\r\n",
        "plt.show()"
      ],
      "execution_count": 54,
      "outputs": [
        {
          "output_type": "display_data",
          "data": {
            "image/png": "[encoded data removed]",
            "text/plain": [
              "<Figure size 432x288 with 1 Axes>"
            ]
          },
          "metadata": {
            "tags": [],
            "needs_background": "light"
          }
        }
      ]
    }
  ]
}