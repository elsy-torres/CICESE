{
  "nbformat": 4,
  "nbformat_minor": 0,
  "metadata": {
    "colab": {
      "name": "Untitled14.ipynb",
      "provenance": [],
      "authorship_tag": "ABX9TyPmgcKclOJX29hQ5YgwCVY9",
      "include_colab_link": true
    },
    "kernelspec": {
      "name": "python3",
      "display_name": "Python 3"
    }
  },
  "cells": [
    {
      "cell_type": "markdown",
      "metadata": {
        "id": "view-in-github",
        "colab_type": "text"
      },
      "source": [
        "<a href=\"https://colab.research.google.com/github/elsy-torres/CICESE/blob/main/matriz-regresion.ipynb\" target=\"_parent\"><img src=\"https://colab.research.google.com/assets/colab-badge.svg\" alt=\"Open In Colab\"/></a>"
      ]
    },
    {
      "cell_type": "code",
      "metadata": {
        "id": "ji80ZrNhTebO"
      },
      "source": [
        "import numpy as np\r\n",
        "import matplotlib.pyplot as plt\r\n",
        "from scipy.stats import linregress"
      ],
      "execution_count": 257,
      "outputs": []
    },
    {
      "cell_type": "code",
      "metadata": {
        "id": "f35kPkghBuF_"
      },
      "source": [
        "N = 3 #grado del polinomio\r\n",
        "M = n + 2"
      ],
      "execution_count": 241,
      "outputs": []
    },
    {
      "cell_type": "code",
      "metadata": {
        "id": "MiCakKHhLCHd"
      },
      "source": [
        "coef = [5, 4, 1, 2] #Coeficientes"
      ],
      "execution_count": 243,
      "outputs": []
    },
    {
      "cell_type": "code",
      "metadata": {
        "colab": {
          "base_uri": "https://localhost:8080/"
        },
        "id": "s1igpbQ8AXRM",
        "outputId": "a45adb7d-681e-4370-f1f7-053e178693d6"
      },
      "source": [
        "x = np.arange(0,3)\r\n",
        "#x = [0,1,2]\r\n",
        "print(x)"
      ],
      "execution_count": 230,
      "outputs": [
        {
          "output_type": "stream",
          "text": [
            "[0 1 2]\n"
          ],
          "name": "stdout"
        }
      ]
    },
    {
      "cell_type": "code",
      "metadata": {
        "colab": {
          "base_uri": "https://localhost:8080/"
        },
        "id": "i-f5hBgcGGxg",
        "outputId": "39cc30f6-2694-4c67-e60f-a88bc23ac8dd"
      },
      "source": [
        "c = np.arange(1,M)\r\n",
        "m= sorted(c, reverse=True)\r\n",
        "print(m)"
      ],
      "execution_count": 240,
      "outputs": [
        {
          "output_type": "stream",
          "text": [
            "[4, 3, 2, 1]\n"
          ],
          "name": "stdout"
        }
      ]
    },
    {
      "cell_type": "code",
      "metadata": {
        "colab": {
          "base_uri": "https://localhost:8080/"
        },
        "id": "VmKo35wGeNJr",
        "outputId": "e05d21e7-ddde-4c66-a584-7e4f1ee55129"
      },
      "source": [
        "a = np.zeros((np.size(x),np.size(m)))\r\n",
        "print(a)"
      ],
      "execution_count": 235,
      "outputs": [
        {
          "output_type": "stream",
          "text": [
            "[[0. 0. 0. 0.]\n",
            " [0. 0. 0. 0.]\n",
            " [0. 0. 0. 0.]]\n"
          ],
          "name": "stdout"
        }
      ]
    },
    {
      "cell_type": "code",
      "metadata": {
        "colab": {
          "base_uri": "https://localhost:8080/"
        },
        "id": "85V_SxsnDfEX",
        "outputId": "02427db8-aaf9-44e2-e76c-e0568ef9e7d1"
      },
      "source": [
        " for i in np.arange(0,np.size(m)):\r\n",
        "  for j in np.arange(0,np.size(x)):\r\n",
        "    a[j,i] = x[j]**(m[i]-1)\r\n",
        "  \r\n",
        "print(a)"
      ],
      "execution_count": 236,
      "outputs": [
        {
          "output_type": "stream",
          "text": [
            "[[0. 0. 0. 1.]\n",
            " [1. 1. 1. 1.]\n",
            " [8. 4. 2. 1.]]\n"
          ],
          "name": "stdout"
        }
      ]
    },
    {
      "cell_type": "code",
      "metadata": {
        "colab": {
          "base_uri": "https://localhost:8080/"
        },
        "id": "42LxbIKQEXk1",
        "outputId": "122a7a6b-380f-4131-9ba0-feec3b7e2bf3"
      },
      "source": [
        "y = a*coef\r\n",
        "print(y)"
      ],
      "execution_count": 246,
      "outputs": [
        {
          "output_type": "stream",
          "text": [
            "[[ 0.  0.  0.  2.]\n",
            " [ 5.  4.  1.  2.]\n",
            " [40. 16.  2.  2.]]\n"
          ],
          "name": "stdout"
        }
      ]
    },
    {
      "cell_type": "code",
      "metadata": {
        "colab": {
          "base_uri": "https://localhost:8080/",
          "height": 265
        },
        "id": "0VgyKnMAUqVB",
        "outputId": "2ffa2871-1aaf-4fed-9f3c-a5f7fe65a639"
      },
      "source": [
        "plt.plot(x,y,'*')\r\n",
        "plt.show()"
      ],
      "execution_count": 259,
      "outputs": [
        {
          "output_type": "display_data",
          "data": {
            "image/png": "[encoded data removed]",
            "text/plain": [
              "<Figure size 432x288 with 1 Axes>"
            ]
          },
          "metadata": {
            "tags": [],
            "needs_background": "light"
          }
        }
      ]
    },
    {
      "cell_type": "code",
      "metadata": {
        "id": "Fpn4pUCMsG9O"
      },
      "source": [
        "linregress?"
      ],
      "execution_count": 258,
      "outputs": []
    },
    {
      "cell_type": "code",
      "metadata": {
        "id": "wMHuUcP4sRAR"
      },
      "source": [
        "regresion = linregress(x, y[:,1])"
      ],
      "execution_count": 263,
      "outputs": []
    }
  ]
}