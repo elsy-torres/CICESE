{
  "nbformat": 4,
  "nbformat_minor": 0,
  "metadata": {
    "colab": {
      "name": "Untitled14.ipynb",
      "provenance": [],
      "authorship_tag": "ABX9TyNviS6FUCtCQw7+sVV+FUU0",
      "include_colab_link": true
    },
    "kernelspec": {
      "name": "python3",
      "display_name": "Python 3"
    }
  },
  "cells": [
    {
      "cell_type": "markdown",
      "metadata": {
        "id": "view-in-github",
        "colab_type": "text"
      },
      "source": [
        "<a href=\"https://colab.research.google.com/github/elsy-torres/CICESE/blob/main/matriz-regresion02.ipynb\" target=\"_parent\"><img src=\"https://colab.research.google.com/assets/colab-badge.svg\" alt=\"Open In Colab\"/></a>"
      ]
    },
    {
      "cell_type": "code",
      "metadata": {
        "id": "ji80ZrNhTebO"
      },
      "source": [
        "import numpy as np\r\n",
        "import matplotlib.pyplot as plt\r\n",
        "from scipy.stats import linregress\r\n",
        "import random\r\n",
        "from decimal import Decimal, getcontext\r\n",
        "getcontext().prec = 3"
      ],
      "execution_count": 114,
      "outputs": []
    },
    {
      "cell_type": "code",
      "metadata": {
        "id": "f35kPkghBuF_"
      },
      "source": [
        "N = 3 #grado del polinomio\r\n",
        "M = N + 2"
      ],
      "execution_count": 20,
      "outputs": []
    },
    {
      "cell_type": "code",
      "metadata": {
        "id": "MiCakKHhLCHd"
      },
      "source": [
        "#Usuario debe ingresar los coeficientes separados por en coma en un vector.\r\n",
        "coef = [5, 4, 1, 2] # Coeficientes"
      ],
      "execution_count": 21,
      "outputs": []
    },
    {
      "cell_type": "code",
      "metadata": {
        "colab": {
          "base_uri": "https://localhost:8080/"
        },
        "id": "s1igpbQ8AXRM",
        "outputId": "ad850e89-66d3-4ba4-9d78-2c4f54f5a6ce"
      },
      "source": [
        "x = np.arange(0,N)\r\n",
        "print(x)"
      ],
      "execution_count": 22,
      "outputs": [
        {
          "output_type": "stream",
          "text": [
            "[0 1 2]\n"
          ],
          "name": "stdout"
        }
      ]
    },
    {
      "cell_type": "code",
      "metadata": {
        "colab": {
          "base_uri": "https://localhost:8080/"
        },
        "id": "i-f5hBgcGGxg",
        "outputId": "84c65970-3c3f-4349-f6b3-a74035411577"
      },
      "source": [
        "c = np.arange(1,M)\r\n",
        "m= sorted(c, reverse=True)\r\n",
        "print(m)"
      ],
      "execution_count": 23,
      "outputs": [
        {
          "output_type": "stream",
          "text": [
            "[4, 3, 2, 1]\n"
          ],
          "name": "stdout"
        }
      ]
    },
    {
      "cell_type": "code",
      "metadata": {
        "colab": {
          "base_uri": "https://localhost:8080/"
        },
        "id": "VmKo35wGeNJr",
        "outputId": "f7760699-9702-48ba-b179-fb4152d910bb"
      },
      "source": [
        "a = np.zeros((np.size(x),np.size(m)))\r\n",
        "print(a)"
      ],
      "execution_count": 74,
      "outputs": [
        {
          "output_type": "stream",
          "text": [
            "[[0. 0. 0. 0.]\n",
            " [0. 0. 0. 0.]\n",
            " [0. 0. 0. 0.]]\n"
          ],
          "name": "stdout"
        }
      ]
    },
    {
      "cell_type": "code",
      "metadata": {
        "colab": {
          "base_uri": "https://localhost:8080/"
        },
        "id": "85V_SxsnDfEX",
        "outputId": "6d882ea5-1c12-4ad1-cba7-621ab5c619a2"
      },
      "source": [
        " for i in np.arange(0,np.size(m)):\r\n",
        "  for j in np.arange(0,np.size(x)):\r\n",
        "    a[j,i] = x[j]**(m[i]-1)\r\n",
        "  \r\n",
        "print(a)"
      ],
      "execution_count": 75,
      "outputs": [
        {
          "output_type": "stream",
          "text": [
            "[[0. 0. 0. 1.]\n",
            " [1. 1. 1. 1.]\n",
            " [8. 4. 2. 1.]]\n"
          ],
          "name": "stdout"
        }
      ]
    },
    {
      "cell_type": "code",
      "metadata": {
        "colab": {
          "base_uri": "https://localhost:8080/"
        },
        "id": "42LxbIKQEXk1",
        "outputId": "9b62dd6d-7748-4b91-dfe3-ad26e30a3186"
      },
      "source": [
        "y = np.matmul(a,coef)\r\n",
        "print(y)"
      ],
      "execution_count": 26,
      "outputs": [
        {
          "output_type": "stream",
          "text": [
            "[ 2. 12. 60.]\n"
          ],
          "name": "stdout"
        }
      ]
    },
    {
      "cell_type": "code",
      "metadata": {
        "id": "Fpn4pUCMsG9O"
      },
      "source": [
        "#linregress?"
      ],
      "execution_count": 28,
      "outputs": []
    },
    {
      "cell_type": "code",
      "metadata": {
        "id": "wMHuUcP4sRAR"
      },
      "source": [
        "regresion = linregress(x, y)"
      ],
      "execution_count": 29,
      "outputs": []
    },
    {
      "cell_type": "code",
      "metadata": {
        "id": "P5LOTd-vQUqh"
      },
      "source": [
        "x_reg = np.array([x.min(), x.max()])\r\n",
        "y_reg = regresion.slope * x_reg + regresion.intercept\r\n",
        "plt.scatter(x, y, label=\"Datos\")\r\n",
        "plt.plot(x_reg, y_reg, color=\"C1\", label=\"Regresión Lineal\")\r\n",
        "plt.show()"
      ],
      "execution_count": null,
      "outputs": []
    },
    {
      "cell_type": "code",
      "metadata": {
        "id": "sWE4Qk_nn-5I"
      },
      "source": [
        "#mi = np.diag(np.arange(0, 20, ))\r\n",
        "#print (mi)"
      ],
      "execution_count": null,
      "outputs": []
    },
    {
      "cell_type": "code",
      "metadata": {
        "id": "agqmHXrYrNJi",
        "outputId": "9d842204-52c0-480b-ab9f-4e37cadaf92f",
        "colab": {
          "base_uri": "https://localhost:8080/"
        }
      },
      "source": [
        "mi = np.identity(3)\r\n",
        "print(mi)"
      ],
      "execution_count": 80,
      "outputs": [
        {
          "output_type": "stream",
          "text": [
            "[[1. 0. 0.]\n",
            " [0. 1. 0.]\n",
            " [0. 0. 1.]]\n"
          ],
          "name": "stdout"
        }
      ]
    },
    {
      "cell_type": "code",
      "metadata": {
        "id": "0HyBs4uPramn"
      },
      "source": [
        "#mi [mi == 1] = 1/ np.random.rand() # cambiar valores de una matriz diagonal\r\n",
        "#print(mi)"
      ],
      "execution_count": null,
      "outputs": []
    },
    {
      "cell_type": "code",
      "metadata": {
        "id": "AW6Alxw_xI7N",
        "outputId": "26f2ea36-253c-44da-aaff-56cdac286da9",
        "colab": {
          "base_uri": "https://localhost:8080/",
          "height": 180
        }
      },
      "source": [
        "s = np.random.rand(N) #incertidumbres\r\n",
        "print(\"s:{0:.2f}\".format(s))"
      ],
      "execution_count": 122,
      "outputs": [
        {
          "output_type": "error",
          "ename": "TypeError",
          "evalue": "ignored",
          "traceback": [
            "\u001b[0;31m---------------------------------------------------------------------------\u001b[0m",
            "\u001b[0;31mTypeError\u001b[0m                                 Traceback (most recent call last)",
            "\u001b[0;32m<ipython-input-122-39e674324762>\u001b[0m in \u001b[0;36m<module>\u001b[0;34m()\u001b[0m\n\u001b[1;32m      1\u001b[0m \u001b[0ms\u001b[0m \u001b[0;34m=\u001b[0m \u001b[0mnp\u001b[0m\u001b[0;34m.\u001b[0m\u001b[0mrandom\u001b[0m\u001b[0;34m.\u001b[0m\u001b[0mrand\u001b[0m\u001b[0;34m(\u001b[0m\u001b[0mN\u001b[0m\u001b[0;34m)\u001b[0m \u001b[0;31m#incertidumbres\u001b[0m\u001b[0;34m\u001b[0m\u001b[0;34m\u001b[0m\u001b[0m\n\u001b[0;32m----> 2\u001b[0;31m \u001b[0mprint\u001b[0m\u001b[0;34m(\u001b[0m\u001b[0;34m\"s:{0:.2f}\"\u001b[0m\u001b[0;34m.\u001b[0m\u001b[0mformat\u001b[0m\u001b[0;34m(\u001b[0m\u001b[0ms\u001b[0m\u001b[0;34m)\u001b[0m\u001b[0;34m)\u001b[0m\u001b[0;34m\u001b[0m\u001b[0;34m\u001b[0m\u001b[0m\n\u001b[0m",
            "\u001b[0;31mTypeError\u001b[0m: unsupported format string passed to numpy.ndarray.__format__"
          ]
        }
      ]
    },
    {
      "cell_type": "code",
      "metadata": {
        "id": "0xHtCfiWt539",
        "outputId": "cfc50782-e7b7-4a70-a32c-44425623fc08",
        "colab": {
          "base_uri": "https://localhost:8080/"
        }
      },
      "source": [
        "Ce = mi * 1/s"
      ],
      "execution_count": 119,
      "outputs": [
        {
          "output_type": "execute_result",
          "data": {
            "text/plain": [
              "['0.42', '0.48', '0.38']"
            ]
          },
          "metadata": {
            "tags": []
          },
          "execution_count": 119
        }
      ]
    },
    {
      "cell_type": "code",
      "metadata": {
        "id": "varhd70eyVuW",
        "outputId": "81f89984-7409-4dd1-edf6-3d5b0ee71b4b",
        "colab": {
          "base_uri": "https://localhost:8080/"
        }
      },
      "source": [
        "A_prima = np.dot(Ce,a) #Matriz A'\r\n",
        "print(A_prima)"
      ],
      "execution_count": 88,
      "outputs": [
        {
          "output_type": "stream",
          "text": [
            "[[ 0.          0.          0.          2.52737104]\n",
            " [ 1.05143217  1.05143217  1.05143217  1.05143217]\n",
            " [10.59138196  5.29569098  2.64784549  1.32392275]]\n"
          ],
          "name": "stdout"
        }
      ]
    },
    {
      "cell_type": "code",
      "metadata": {
        "id": "mwhC9MiX1e-L",
        "outputId": "8a7c5f9b-49e1-404d-c10f-b15c9a645454",
        "colab": {
          "base_uri": "https://localhost:8080/"
        }
      },
      "source": [
        "y_prima = y * 1/s\r\n",
        "print(y_prima)"
      ],
      "execution_count": 79,
      "outputs": [
        {
          "output_type": "stream",
          "text": [
            "[ 2.22966715 79.56595214 70.82378313]\n"
          ],
          "name": "stdout"
        }
      ]
    },
    {
      "cell_type": "code",
      "metadata": {
        "id": "4g3TzuNO2ZuY",
        "outputId": "8d1411bf-b9cb-4617-f5c8-4499cd44a0ab",
        "colab": {
          "base_uri": "https://localhost:8080/"
        }
      },
      "source": [
        "X_1 = np.dot(np.transpose(A_prima),A_prima)\r\n",
        "print(X_1)"
      ],
      "execution_count": 93,
      "outputs": [
        {
          "output_type": "stream",
          "text": [
            "[[113.28288149  57.19419555  29.14985259  15.1276811 ]\n",
            " [ 57.19419555  29.14985259  15.1276811    8.11659536]\n",
            " [ 29.14985259  15.1276811    8.11659536   4.61105249]\n",
            " [ 15.1276811    8.11659536   4.61105249   9.24588542]]\n"
          ],
          "name": "stdout"
        }
      ]
    },
    {
      "cell_type": "code",
      "metadata": {
        "id": "86CKgMKm3q01",
        "outputId": "2803e686-7649-42ab-cf59-b4f2d4c4c95c",
        "colab": {
          "base_uri": "https://localhost:8080/"
        }
      },
      "source": [
        "X_inv = np.linalg.inv(X_1)\r\n",
        "print(X_inv)"
      ],
      "execution_count": 95,
      "outputs": [
        {
          "output_type": "stream",
          "text": [
            "[[-2.34562481e+13  7.03687442e+13 -4.69124961e+13  1.92530202e-02]\n",
            " [ 7.03687442e+13 -2.11106233e+14  1.40737488e+14  2.05175468e-02]\n",
            " [-4.69124961e+13  1.40737488e+14 -9.38249922e+13 -1.96323782e-01]\n",
            " [ 2.60922025e-02 -0.00000000e+00 -1.82645418e-01  1.56553215e-01]]\n"
          ],
          "name": "stdout"
        }
      ]
    },
    {
      "cell_type": "code",
      "metadata": {
        "id": "53ReBPQD39rs",
        "outputId": "ce302c5c-3c3e-4bdd-dab4-5b8a8ee292b7",
        "colab": {
          "base_uri": "https://localhost:8080/"
        }
      },
      "source": [
        "X_2 = np.dot(np.transpose(A_prima),y_prima)\r\n",
        "print(X_2)"
      ],
      "execution_count": 97,
      "outputs": [
        {
          "output_type": "stream",
          "text": [
            "[833.77994126 458.71907168 271.18863688 183.05861566]\n"
          ],
          "name": "stdout"
        }
      ]
    },
    {
      "cell_type": "code",
      "metadata": {
        "id": "tKeXrqk44TTd",
        "outputId": "40a932f8-a994-41b8-d82d-6283c25c9bfe",
        "colab": {
          "base_uri": "https://localhost:8080/"
        }
      },
      "source": [
        "X = np.dot(X_inv,X_2)\r\n",
        "print(X)"
      ],
      "execution_count": 99,
      "outputs": [
        {
          "output_type": "stream",
          "text": [
            "[ -8.         -32.         104.           0.88220808]\n"
          ],
          "name": "stdout"
        }
      ]
    }
  ]
}