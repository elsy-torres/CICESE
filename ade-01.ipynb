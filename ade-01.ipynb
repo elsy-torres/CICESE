{
  "nbformat": 4,
  "nbformat_minor": 0,
  "metadata": {
    "colab": {
      "name": "Untitled13.ipynb",
      "provenance": [],
      "authorship_tag": "ABX9TyMgwldTpMmZrqEpDjMxWM7/",
      "include_colab_link": true
    },
    "kernelspec": {
      "name": "python3",
      "display_name": "Python 3"
    }
  },
  "cells": [
    {
      "cell_type": "markdown",
      "metadata": {
        "id": "view-in-github",
        "colab_type": "text"
      },
      "source": [
        "<a href=\"https://colab.research.google.com/github/elsy-torres/CICESE/blob/main/ade-01.ipynb\" target=\"_parent\"><img src=\"https://colab.research.google.com/assets/colab-badge.svg\" alt=\"Open In Colab\"/></a>"
      ]
    },
    {
      "cell_type": "code",
      "metadata": {
        "id": "veK_H_bT1Fgi"
      },
      "source": [
        "import numpy as np\r\n",
        "import matplotlib .pyplot as plt\r\n",
        "import pandas as pd"
      ],
      "execution_count": 3,
      "outputs": []
    },
    {
      "cell_type": "code",
      "metadata": {
        "id": "gM3IYn_kGZrh"
      },
      "source": [
        "data = pd.read_csv('line.dat',names=['x','y'],sep='\\s+',engine='python')\r\n",
        "data.head()"
      ],
      "execution_count": null,
      "outputs": []
    },
    {
      "cell_type": "code",
      "metadata": {
        "colab": {
          "base_uri": "https://localhost:8080/"
        },
        "id": "KkGMPy2LKVhJ",
        "outputId": "467bfd41-8f39-4121-f129-aae73da5d310"
      },
      "source": [
        "m = len(data)\r\n",
        "print(m)"
      ],
      "execution_count": 14,
      "outputs": [
        {
          "output_type": "stream",
          "text": [
            "10\n"
          ],
          "name": "stdout"
        }
      ]
    },
    {
      "cell_type": "code",
      "metadata": {
        "colab": {
          "base_uri": "https://localhost:8080/"
        },
        "id": "KW3AJWFfLDuU",
        "outputId": "816cd6eb-3f7d-478f-b091-0f41ac7d1934"
      },
      "source": [
        "xm = np.mean(data['x'])\r\n",
        "print(xm)"
      ],
      "execution_count": 16,
      "outputs": [
        {
          "output_type": "stream",
          "text": [
            "-1.1\n"
          ],
          "name": "stdout"
        }
      ]
    },
    {
      "cell_type": "code",
      "metadata": {
        "id": "C_5oJFF5LR4p"
      },
      "source": [
        "ym = "
      ],
      "execution_count": null,
      "outputs": []
    }
  ]
}